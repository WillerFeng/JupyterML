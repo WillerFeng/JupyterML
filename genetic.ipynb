{
 "cells": [
  {
   "cell_type": "code",
   "execution_count": 38,
   "metadata": {},
   "outputs": [],
   "source": [
    "import math\n",
    "import random\n",
    "import gc"
   ]
  },
  {
   "cell_type": "code",
   "execution_count": 45,
   "metadata": {},
   "outputs": [
    {
     "name": "stdout",
     "output_type": "stream",
     "text": [
      "Epoch : 1, Best Individual 30, Performance : 0.5\n",
      "Epoch : 2, Best Individual 29, Performance : 0.3333333333333333\n",
      "Epoch : 3, Best Individual 31, Performance : 1.0\n",
      "Genetic Output : Best Individual 31, Performance : 1.0\n"
     ]
    }
   ],
   "source": [
    "class Genetic:\n",
    "    def __init__(self, size, gene_length, cross_rate, cross_prob, mutation_prob,max_iteration):\n",
    "        self.size = size\n",
    "        self.cross_rate = cross_rate\n",
    "        self.cross_prob = cross_prob\n",
    "        self.mutation_prob = mutation_prob\n",
    "        self.max_iteration = max_iteration\n",
    "        self.individual = []\n",
    "        self.gene_length = gene_length\n",
    "        self.cross_length = self.gene_length * self.cross_rate\n",
    "        \n",
    "    def init_individual(self):\n",
    "        for i in range(self.size):\n",
    "            gene = 0\n",
    "            for j in range(self.gene_length):\n",
    "                gene <<= 1\n",
    "                if random.random() < 0.5:\n",
    "                    gene ^= 1\n",
    "                else:\n",
    "                    gene ^= 0\n",
    "            self.individual.append(gene)\n",
    "        \n",
    "    def cal_fitness(self, num):\n",
    "        return 1 / (32 - num)\n",
    "    \n",
    "    def select(self):\n",
    "        select_prob = [self.cal_fitness(i) for i in self.individual]\n",
    "        self.individual = random.choices(self.individual, weights=select_prob, k=self.size)\n",
    "        \n",
    "    def crossfit(self):\n",
    "        for i in range(self.size):\n",
    "            if random.random() < self.cross_prob:\n",
    "                another = random.randint(0, self.size-1)\n",
    "                pos = random.randint(0, self.size - self.cross_length)\n",
    "                g_a = (self.individual[i] >> pos) & (int(2**self.cross_length-1))\n",
    "                g_b = (self.individual[another] >> pos) & (int(2**self.cross_length-1))\n",
    "                g_a <<= pos\n",
    "                g_a <<= pos\n",
    "                self.individual[i] ^= g_b\n",
    "                self.individual[another] ^= g_a\n",
    "                \n",
    "        \n",
    "    def mutation(self,):\n",
    "        for i in range(self.size):\n",
    "            g = 1\n",
    "            while g <= 2**self.gene_length-1:\n",
    "                if random.random() < self.mutation_prob:\n",
    "                    self.individual[i] ^= g\n",
    "                g <<= 1\n",
    "        \n",
    "    def evolve(self):\n",
    "        self.select()\n",
    "        self.crossfit()\n",
    "        self.mutation()\n",
    "        best_individual, best_performance = max([(i, self.cal_fitness(i)) for i in self.individual], key=lambda x:x[1])\n",
    "        gc.collect()\n",
    "        return best_individual, best_performance\n",
    "    \n",
    "    def run(self):\n",
    "        self.init_individual()\n",
    "        for i in range(self.max_iteration):\n",
    "            best_individual, best_performance = self.evolve()\n",
    "            print(\"Epoch : {}, Best Individual {}, Performance : {}\".format(i+1, best_individual, best_performance))\n",
    "            if best_performance == 1:\n",
    "                break\n",
    "        print(\"Genetic Output : Best Individual {}, Performance : {}\".format(best_individual, best_performance))\n",
    "        \n",
    "if __name__ == '__main__':\n",
    "    # y = x^2  0 <= x <= 31\n",
    "    model = Genetic(5, 5, 0.4, 0.8, 0.01, 100)\n",
    "    model.run()"
   ]
  },
  {
   "cell_type": "code",
   "execution_count": 42,
   "metadata": {},
   "outputs": [
    {
     "data": {
      "text/plain": [
       "0.22724575745305775"
      ]
     },
     "execution_count": 42,
     "metadata": {},
     "output_type": "execute_result"
    }
   ],
   "source": [
    "random.random()"
   ]
  },
  {
   "cell_type": "code",
   "execution_count": 4,
   "metadata": {},
   "outputs": [
    {
     "name": "stdout",
     "output_type": "stream",
     "text": [
      "Help on built-in function max in module builtins:\n",
      "\n",
      "max(...)\n",
      "    max(iterable, *[, default=obj, key=func]) -> value\n",
      "    max(arg1, arg2, *args, *[, key=func]) -> value\n",
      "    \n",
      "    With a single iterable argument, return its biggest item. The\n",
      "    default keyword-only argument specifies an object to return if\n",
      "    the provided iterable is empty.\n",
      "    With two or more arguments, return the largest argument.\n",
      "\n"
     ]
    }
   ],
   "source": [
    "help(max)"
   ]
  },
  {
   "cell_type": "code",
   "execution_count": 10,
   "metadata": {},
   "outputs": [
    {
     "data": {
      "text/plain": [
       "2"
      ]
     },
     "execution_count": 10,
     "metadata": {},
     "output_type": "execute_result"
    }
   ],
   "source": [
    "random.randint(1,2)\n"
   ]
  },
  {
   "cell_type": "code",
   "execution_count": 8,
   "metadata": {},
   "outputs": [
    {
     "name": "stdout",
     "output_type": "stream",
     "text": [
      "Help on method randint in module random:\n",
      "\n",
      "randint(a, b) method of random.Random instance\n",
      "    Return random integer in range [a, b], including both end points.\n",
      "\n"
     ]
    }
   ],
   "source": [
    "help(random.randint)"
   ]
  },
  {
   "cell_type": "code",
   "execution_count": null,
   "metadata": {},
   "outputs": [],
   "source": []
  }
 ],
 "metadata": {
  "kernelspec": {
   "display_name": "Python 3.7.3 64-bit ('base': conda)",
   "language": "python",
   "name": "python37364bitbaseconda11cf69b2120d45aca851a42bf4b8015b"
  },
  "language_info": {
   "codemirror_mode": {
    "name": "ipython",
    "version": 3
   },
   "file_extension": ".py",
   "mimetype": "text/x-python",
   "name": "python",
   "nbconvert_exporter": "python",
   "pygments_lexer": "ipython3",
   "version": "3.7.3"
  }
 },
 "nbformat": 4,
 "nbformat_minor": 2
}
