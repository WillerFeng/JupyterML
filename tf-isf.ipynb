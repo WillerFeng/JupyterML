{
 "cells": [
  {
   "cell_type": "code",
   "execution_count": 14,
   "metadata": {},
   "outputs": [],
   "source": [
    "import numpy as np\n",
    "import pandas as pd\n",
    "import gc\n",
    "import warnings\n",
    "from collections import defaultdict, Counter\n",
    "import docx\n",
    "from docx import Document\n",
    "import matplotlib.pyplot as plt\n",
    "warnings.filterwarnings('ignore')"
   ]
  },
  {
   "cell_type": "code",
   "execution_count": 15,
   "metadata": {},
   "outputs": [
    {
     "name": "stdout",
     "output_type": "stream",
     "text": [
      "TF_ISF Matrix : \n",
      "    blockade       it.      end”   demands  absolutely   refuses  cooperation  \\\n",
      "0   0.000000  0.000000  0.000000  0.044803    0.000000  0.027188     0.000000   \n",
      "1   0.031613  0.000000  0.000000  0.000000    0.000000  0.000000     0.000000   \n",
      "2   0.031613  0.040603  0.000000  0.000000    0.000000  0.000000     0.000000   \n",
      "3   0.000000  0.000000  0.000000  0.000000    0.000000  0.000000     0.017747   \n",
      "4   0.000000  0.000000  0.000000  0.000000    0.000000  0.000000     0.000000   \n",
      "5   0.000000  0.000000  0.000000  0.000000    0.000000  0.019231     0.000000   \n",
      "6   0.000000  0.000000  0.000000  0.000000    0.000000  0.000000     0.000000   \n",
      "7   0.000000  0.000000  0.000000  0.000000    0.000000  0.018773     0.024086   \n",
      "8   0.000000  0.000000  0.040603  0.000000    0.000000  0.000000     0.000000   \n",
      "9   0.000000  0.000000  0.000000  0.000000    0.037122  0.000000     0.000000   \n",
      "10  0.000000  0.000000  0.000000  0.000000    0.000000  0.000000     0.000000   \n",
      "\n",
      "     nations      told     iraq,  ...  commission    crisis    ivanov  \\\n",
      "0   0.000000  0.000000  0.000000  ...    0.000000  0.000000  0.000000   \n",
      "1   0.018942  0.000000  0.000000  ...    0.000000  0.000000  0.000000   \n",
      "2   0.000000  0.040603  0.000000  ...    0.000000  0.000000  0.000000   \n",
      "3   0.010634  0.000000  0.000000  ...    0.035495  0.000000  0.000000   \n",
      "4   0.000000  0.000000  0.028903  ...    0.000000  0.000000  0.000000   \n",
      "5   0.014784  0.000000  0.024673  ...    0.000000  0.000000  0.024673   \n",
      "6   0.000000  0.000000  0.000000  ...    0.043983  0.000000  0.043983   \n",
      "7   0.014432  0.000000  0.000000  ...    0.000000  0.000000  0.000000   \n",
      "8   0.000000  0.000000  0.000000  ...    0.000000  0.031613  0.000000   \n",
      "9   0.000000  0.000000  0.000000  ...    0.000000  0.028903  0.000000   \n",
      "10  0.000000  0.000000  0.000000  ...    0.000000  0.000000  0.000000   \n",
      "\n",
      "    commitments”      him,  president  military    stance   weapons    charge  \n",
      "0       0.000000  0.000000   0.034883  0.000000  0.000000  0.000000  0.000000  \n",
      "1       0.000000  0.000000   0.031613  0.000000  0.000000  0.000000  0.000000  \n",
      "2       0.000000  0.000000   0.000000  0.000000  0.040603  0.000000  0.000000  \n",
      "3       0.000000  0.000000   0.000000  0.022794  0.000000  0.000000  0.017747  \n",
      "4       0.000000  0.037122   0.000000  0.000000  0.000000  0.000000  0.000000  \n",
      "5       0.000000  0.000000   0.000000  0.000000  0.000000  0.000000  0.000000  \n",
      "6       0.000000  0.000000   0.000000  0.000000  0.000000  0.056491  0.043983  \n",
      "7       0.000000  0.000000   0.000000  0.000000  0.000000  0.000000  0.000000  \n",
      "8       0.000000  0.000000   0.000000  0.000000  0.000000  0.000000  0.000000  \n",
      "9       0.037122  0.000000   0.000000  0.000000  0.000000  0.000000  0.000000  \n",
      "10      0.000000  0.000000   0.000000  0.000000  0.000000  0.000000  0.000000  \n",
      "\n",
      "[11 rows x 171 columns]\n",
      "================================================================================\n",
      "Similar Matrix : \n",
      "[[1.         0.30940004 0.02713085 0.0673066  0.00774754 0.02447664\n",
      "  0.01908011 0.24195262 0.06534351 0.01779673 0.        ]\n",
      " [0.30940004 1.         0.1538076  0.04983398 0.00739624 0.02148841\n",
      "  0.01821496 0.06762106 0.01779959 0.02548466 0.        ]\n",
      " [0.02713085 0.1538076  1.         0.01814313 0.         0.\n",
      "  0.02817153 0.         0.         0.         0.        ]\n",
      " [0.0673066  0.04983398 0.01814313 1.         0.01576597 0.03142059\n",
      "  0.22087563 0.07136887 0.         0.00595058 0.        ]\n",
      " [0.00774754 0.00739624 0.         0.01576597 1.         0.20843785\n",
      "  0.         0.00639767 0.00706894 0.         0.07058605]\n",
      " [0.02447664 0.02148841 0.         0.03142059 0.20843785 1.\n",
      "  0.04183703 0.03879924 0.03676243 0.11227467 0.05318358]\n",
      " [0.01908011 0.01821496 0.02817153 0.22087563 0.         0.04183703\n",
      "  1.         0.04241543 0.         0.         0.        ]\n",
      " [0.24195262 0.06762106 0.         0.07136887 0.00639767 0.03879924\n",
      "  0.04241543 1.         0.05266712 0.03525871 0.03354229]\n",
      " [0.06534351 0.01779959 0.         0.         0.00706894 0.03676243\n",
      "  0.         0.05266712 1.         0.09621529 0.17539401]\n",
      " [0.01779673 0.02548466 0.         0.00595058 0.         0.11227467\n",
      "  0.         0.03525871 0.09621529 1.         0.03537553]\n",
      " [0.         0.         0.         0.         0.07058605 0.05318358\n",
      "  0.         0.03354229 0.17539401 0.03537553 1.        ]]\n"
     ]
    },
    {
     "data": {
      "image/png": "[encoded data removed]",
      "text/plain": [
       "<Figure size 288x288 with 1 Axes>"
      ]
     },
     "metadata": {
      "needs_background": "light"
     },
     "output_type": "display_data"
    }
   ],
   "source": [
    "stopwords = [\"a\",\"able\",\"about\",\"across\",\"after\",\"all\",\"almost\",\"also\",\"am\",\"among\",\"an\",\"and\",\n",
    "             \"any\",\"are\",\"as\",\"at\",\"be\",\"because\",\"been\",\"but\",\"by\",\"can\",\"cannot\",\"could\",\"dear\",\n",
    "             \"did\",\"do\",\"does\",\"either\",\"else\",\"ever\",\"every\",\"for\",\"from\",\"get\",\"got\",\"had\",\"has\",\n",
    "             \"have\",\"he\",\"her\",\"hers\",\"him\",\"his\",\"how\",\"however\",\"i\",\"if\",\"in\",\"into\",\"is\",\"it\",\n",
    "             \"its\",\"just\",\"least\",\"let\",\"like\",\"likely\",\"may\",\"me\",\"might\",\"most\",\"must\",\"my\",\"neither\",\n",
    "             \"no\",\"nor\",\"not\",\"of\",\"off\",\"often\",\"on\",\"only\",\"or\",\"other\",\"our\",\"own\",\"rather\",\"said\",\n",
    "             \"say\",\"says\",\"she\",\"should\",\"since\",\"so\",\"some\",\"than\",\"that\",\"the\",\"their\",\"them\",\"then\",\n",
    "             \"there\",\"these\",\"they\",\"this\",\"tis\",\"to\",\"too\",\"twas\",\"us\",\"wants\",\"was\",\"we\",\"were\",\"what\",\n",
    "             \"when\",\"where\",\"which\",\"while\",\"who\",\"whom\",\"why\",\"will\",\"with\",\"would\",\"yet\",\"you\",\"your\",\n",
    "             \"ain't\",\"aren't\",\"can't\",\"could've\",\"couldn't\",\"didn't\",\"doesn't\",\"don't\",\"hasn't\",\"he'd\",\n",
    "             \"he'll\",\"he's\",\"how'd\",\"how'll\",\"how's\",\"i'd\",\"i'll\",\"i'm\",\"i've\",\"isn't\",\"it's\",\"might've\",\n",
    "             \"mightn't\",\"must've\",\"mustn't\",\"shan't\",\"she'd\",\"she'll\",\"she's\",\"should've\",\"shouldn't\",\n",
    "             \"that'll\",\"that's\",\"there's\",\"they'd\",\"they'll\",\"they're\",\"they've\",\"wasn't\",\"we'd\",\"we'll\",\n",
    "             \"we're\",\"weren't\",\"what'd\",\"what's\",\"when'd\",\"when'll\",\"when's\",\"where'd\",\"where'll\",\n",
    "             \"where's\",\"who'd\",\"who'll\",\"who's\",\"why'd\",\"why'll\",\"why's\",\"won't\",\"would've\",\"wouldn't\",\n",
    "             \"you'd\",\"you'll\",\"you're\",\"you've\"]\n",
    "stopwords = set(stopwords)\n",
    "split_list = [' ', ',']\n",
    "\n",
    "def cal_tf_isf(sentences):\n",
    "    \n",
    "    columns = set()\n",
    "    for i in range(len(sentences)):\n",
    "        sentences[i] = sentences[i].lower()\n",
    "        sentences[i] = sentences[i].split()\n",
    "        columns |= set(sentences[i])\n",
    "    columns -= stopwords\n",
    "    tf_np = np.zeros((len(sentences),len(columns)))\n",
    "    tf = pd.DataFrame(tf_np, columns=list(columns))\n",
    "    isf_np = np.ones((1, len(columns)))\n",
    "    isf = pd.DataFrame(isf_np, columns=list(columns))\n",
    "    \n",
    "    for i,s in enumerate(sentences):\n",
    "        dic = Counter(s)\n",
    "        for k,v in dic.items():\n",
    "            if k in columns:\n",
    "                tf.ix[i, k] += v / len(s)\n",
    "                isf.ix[0, k] += 1\n",
    "    for c in columns:\n",
    "        isf.ix[0, c] = np.log(len(sentences) / (isf.ix[0, c] + 1))\n",
    "    for i in range(len(sentences)):\n",
    "        tf.iloc[i] = tf.iloc[i].mul(isf.iloc[0])\n",
    "    gc.collect()\n",
    "    return tf\n",
    "    \n",
    "    \n",
    "def cal_similar_matrix(tf_isf_matrix):\n",
    "    tf_isf_matrix = np.array(tf_isf_matrix)\n",
    "    similar_matrix = np.dot(tf_isf_matrix, tf_isf_matrix.transpose())\n",
    "    inner_matrix = np.sum(np.multiply(tf_isf_matrix, tf_isf_matrix), axis=1, keepdims=True)\n",
    "    inner_matrix = np.sqrt(np.dot(inner_matrix, inner_matrix.transpose()))\n",
    "    similar_matrix /= inner_matrix\n",
    "    return similar_matrix\n",
    "    \n",
    "if __name__ == '__main__':\n",
    "    \n",
    "    path = '/Users/willer/Desktop/data.docx'\n",
    "    document = Document(path)\n",
    "    table = document.tables\n",
    "    table = table[0]\n",
    "    sentences = []\n",
    "    for line in table.rows[1:]:\n",
    "        sentences.append(line.cells[-1].text)\n",
    "        \n",
    "    tf_isf_matrix = cal_tf_isf(sentences)\n",
    "    similar_matrix = cal_similar_matrix(tf_isf_matrix)\n",
    "    print(\"TF_ISF Matrix : \\n{}\".format(tf_isf_matrix))\n",
    "    print('=' * 80)\n",
    "    print(\"Similar Matrix : \\n{}\".format(similar_matrix))\n",
    "    plt.matshow(similar_matrix)\n",
    "    plt.show()"
   ]
  },
  {
   "cell_type": "code",
   "execution_count": null,
   "metadata": {},
   "outputs": [],
   "source": [
    "gc.collect()"
   ]
  },
  {
   "cell_type": "code",
   "execution_count": null,
   "metadata": {},
   "outputs": [],
   "source": [
    "help(np.sum)"
   ]
  },
  {
   "cell_type": "code",
   "execution_count": 3,
   "metadata": {},
   "outputs": [
    {
     "name": "stdout",
     "output_type": "stream",
     "text": [
      "Collecting python-docx\n",
      "  Downloading python-docx-0.8.10.tar.gz (5.5 MB)\n",
      "\u001b[K     |████████████████████████████████| 5.5 MB 306 kB/s eta 0:00:01     |██████████████████████▌         | 3.9 MB 93 kB/s eta 0:00:18     |████████████████████████████▊   | 5.0 MB 214 kB/s eta 0:00:03\n",
      "\u001b[?25hRequirement already satisfied: lxml>=2.3.2 in /Users/willer/anaconda3/lib/python3.7/site-packages (from python-docx) (4.3.4)\n",
      "Building wheels for collected packages: python-docx\n",
      "  Building wheel for python-docx (setup.py) ... \u001b[?25ldone\n",
      "\u001b[?25h  Created wheel for python-docx: filename=python_docx-0.8.10-py3-none-any.whl size=184490 sha256=a676f783baaf3b1da26225e52c9efb47ced1ca41b503bb48f7b509f94bae186c\n",
      "  Stored in directory: /Users/willer/Library/Caches/pip/wheels/75/c6/69/05491f32dc052cd70476b65f5bf7082a9b274045f6b001b821\n",
      "Successfully built python-docx\n",
      "Installing collected packages: python-docx\n",
      "Successfully installed python-docx-0.8.10\n"
     ]
    }
   ],
   "source": [
    "!pip install python-docx "
   ]
  },
  {
   "cell_type": "code",
   "execution_count": null,
   "metadata": {},
   "outputs": [],
   "source": []
  }
 ],
 "metadata": {
  "kernelspec": {
   "display_name": "Python 3.7.3 64-bit ('base': conda)",
   "language": "python",
   "name": "python37364bitbaseconda11cf69b2120d45aca851a42bf4b8015b"
  },
  "language_info": {
   "codemirror_mode": {
    "name": "ipython",
    "version": 3
   },
   "file_extension": ".py",
   "mimetype": "text/x-python",
   "name": "python",
   "nbconvert_exporter": "python",
   "pygments_lexer": "ipython3",
   "version": "3.7.3"
  }
 },
 "nbformat": 4,
 "nbformat_minor": 2
}
