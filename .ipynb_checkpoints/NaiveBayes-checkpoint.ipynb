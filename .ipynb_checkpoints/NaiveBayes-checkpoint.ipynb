{
 "cells": [
  {
   "cell_type": "code",
   "execution_count": 28,
   "metadata": {},
   "outputs": [],
   "source": [
    "from collections import defaultdict\n",
    "import copy\n",
    "import gc"
   ]
  },
  {
   "cell_type": "code",
   "execution_count": 45,
   "metadata": {},
   "outputs": [],
   "source": [
    "class NaiveBayes():\n",
    "    def fit(self, data, label):\n",
    "        s = set(label)\n",
    "        dic = defaultdict(dict)\n",
    "        self.size = len(label)\n",
    "        self.prior_prob = defaultdict(float)\n",
    "        self.cond_prob = defaultdict(dict)\n",
    "        for d, l in zip(data, label):\n",
    "            self.prior_prob[l] += 1 \n",
    "            for i, v in enumerate(d):\n",
    "                dic[l][(i,v)] = dic[l].get((i,v), 0) + 1\n",
    "        for l in s:\n",
    "            for k, v in dic[l].items():\n",
    "                self.cond_prob[l][k] = self.cond_prob[l].get(k, 0) + v\n",
    "        gc.collect()\n",
    "        \n",
    "    def predict(self, data):\n",
    "        prob = copy.deepcopy(self.prior_prob)\n",
    "        for k in prob.keys():\n",
    "            for i, v in enumerate(data):\n",
    "                prob[k] *= self.cond_prob[k].get((i,v), 1)\n",
    "        for k in prob.keys():\n",
    "            prob[k] /= sum(prob.values())\n",
    "        return prob, sorted(prob, key=lambda x:x.__getitem__, reverse=True)[0]\n"
   ]
  },
  {
   "cell_type": "code",
   "execution_count": 46,
   "metadata": {},
   "outputs": [
    {
     "name": "stdout",
     "output_type": "stream",
     "text": [
      "Label Predict : defaultdict(<class 'float'>, {'不买': 0.025974025974025976, '买': 0.9999567118306566})\n",
      "Model Output :  买\n"
     ]
    }
   ],
   "source": [
    "if __name__ == '__main__':\n",
    "    #        年龄     收入 学生  信用\n",
    "    data = [['<30'  ,'高','否','一般'],\n",
    "            ['<30'  ,'高','否','好'],\n",
    "            ['30-40','高','否','一般'],\n",
    "            ['>40'  ,'中','否','一般'],\n",
    "            ['>40'  ,'低','是','一般'],\n",
    "            ['>40'  ,'低','是','好'],\n",
    "            ['30-40','低','是','好'],\n",
    "            ['<30'  ,'中','否','一般'],\n",
    "            ['<30'  ,'低','是','一般'],\n",
    "            ['>40'  ,'中','是','一般'],\n",
    "            ['<30'  ,'中','是','好'],\n",
    "            ['30-40','中','否','好'],\n",
    "            ['30-40','高','是','一般']\n",
    "           ]\n",
    "    label = ['不买','不买','买','买','买','不买','买','不买','买','买','买','买','买']\n",
    "    # Last sample\n",
    "    test = ['<30', '中', '是', '一般']\n",
    "    model = NaiveBayes()\n",
    "    model.fit(data[:-1], label)\n",
    "    prob, pred = model.predict(data[-1])\n",
    "    print(\"Label Predict :\" , prob)\n",
    "    print(\"Model Output : \", pred)"
   ]
  },
  {
   "cell_type": "code",
   "execution_count": null,
   "metadata": {},
   "outputs": [],
   "source": []
  }
 ],
 "metadata": {
  "kernelspec": {
   "display_name": "Python 3.7.3 64-bit ('base': conda)",
   "language": "python",
   "name": "python37364bitbaseconda11cf69b2120d45aca851a42bf4b8015b"
  },
  "language_info": {
   "codemirror_mode": {
    "name": "ipython",
    "version": 3
   },
   "file_extension": ".py",
   "mimetype": "text/x-python",
   "name": "python",
   "nbconvert_exporter": "python",
   "pygments_lexer": "ipython3",
   "version": "3.7.3"
  }
 },
 "nbformat": 4,
 "nbformat_minor": 2
}
