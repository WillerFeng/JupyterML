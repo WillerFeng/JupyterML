import gc
import numpy as np
from sklearn.datasets import load_breast_cancer
from sklearn.metrics import accuracy_score
class LogisticRegression:
    """
    Global Batch Gradient Ascent
    """
    def __init__(self, lr=0.1, l2norm_coef=0.1, max_iter=500, threshold=0.001):
        self.l2norm_coef = l2norm_coef
        self.max_iter = max_iter
        self.lr = lr
        self.threshold = threshold
        
    def fit(self, X, y):
        size = len(X[0])
        self.w = np.ones(size)
        iter = 0
        X = np.array(X)
        y = np.array(y)
        while iter < self.max_iter:
            iter += 1
            grad = np.dot(X.transpose(), y - self.predict(X, get_label=False)) / X.shape[0]
            if np.sum(grad ** 2) <= self.threshold:
                break
            self.w += self.lr * grad - self.l2norm_coef * self.w
        gc.collect()
        print("Train Finished")
            
    def predict(self, x, get_label=True):
        x = np.array(x)
        true_prob  = 1 / (1 + np.exp(-np.dot(x, self.w)))
        false_prob = 1 - true_prob
        if get_label:
            return [1 if t > f else 0 for t, f in zip(true_prob, false_prob)]
        else:
            return true_prob
        
if __name__ == '__main__':
    d = load_breast_cancer()
    data = d.data
    label = d.target
    cls = LogisticRegression(lr=0.3, l2norm_coef=0.001, max_iter=2000)
    cls.fit(data, label)
    print("weight vector : ",cls.w)
    print(accuracy_score(cls.predict(data), label))
    
