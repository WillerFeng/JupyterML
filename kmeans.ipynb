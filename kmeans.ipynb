{
 "cells": [
  {
   "cell_type": "code",
   "execution_count": 1,
   "metadata": {},
   "outputs": [],
   "source": [
    "import numpy as np\n",
    "import random\n",
    "import matplotlib.pyplot as plt\n",
    "import seaborn as sns\n",
    "import gc\n",
    "import scipy.cluster.hierarchy as sch #用于进行层次聚类，画层次聚类图的工具包\n",
    "import scipy.spatial.distance as ssd\n",
    "from scipy.cluster.vq import vq,kmeans,whiten\n"
   ]
  },
  {
   "cell_type": "code",
   "execution_count": 8,
   "metadata": {},
   "outputs": [],
   "source": [
    "size = 32\n",
    "cluster_mean = [(0,0), (7,6), (-5, 4)]\n",
    "cluster_covar = [[[2,1], [1,2]],\n",
    "                 [[4,2], [2,3]],\n",
    "                 [[1,0], [0,3]]]\n",
    "data = []\n",
    "label = []\n",
    "# 基于多维高斯分布生成模拟数据\n",
    "for i, (mean, cov) in enumerate(zip(cluster_mean, cluster_covar)):\n",
    "    data += np.random.multivariate_normal(mean, cov, size).tolist()\n",
    "    label += [i] * size"
   ]
  },
  {
   "cell_type": "code",
   "execution_count": 9,
   "metadata": {},
   "outputs": [],
   "source": [
    "def show(data, label=None):\n",
    "    t = list(zip(*data))\n",
    "    x,y = t[0], t[1]\n",
    "    sns.scatterplot(x, y, hue=label)\n",
    "    plt.axis()"
   ]
  },
  {
   "cell_type": "code",
   "execution_count": 10,
   "metadata": {},
   "outputs": [
    {
     "data": {
      "image/png": "[encoded data removed]",
      "text/plain": [
       "<Figure size 432x288 with 1 Axes>"
      ]
     },
     "metadata": {
      "needs_background": "light"
     },
     "output_type": "display_data"
    }
   ],
   "source": [
    "show(data, label)"
   ]
  },
  {
   "cell_type": "code",
   "execution_count": 21,
   "metadata": {},
   "outputs": [],
   "source": [
    "import time\n",
    "import copy\n",
    "class K_medoid:\n",
    "    def __init__(self, cluster_size, max_iter):\n",
    "        self.cluster_size = cluster_size\n",
    "        self.max_iter = max_iter\n",
    "        self.verbose_eval = 5\n",
    "        self.centers = None\n",
    "        self.labels = None\n",
    "        self.last_labels = None\n",
    "        \n",
    "    def expection(self, data):\n",
    "        centers = np.empty((0, data.shape[1]))\n",
    "        for i in range(self.cluster_size):\n",
    "            idx = (self.labels == i)\n",
    "            center_samples = data[idx]\n",
    "            if len(center_samples) > 0:\n",
    "                tmp = float('inf')\n",
    "                for sample in center_samples:\n",
    "                    dist_total = np.sum(np.sum(np.square(center_samples - sample), axis=1),axis=0)\n",
    "                    if np.sum(dist_total) < tmp:\n",
    "                        tmp = dist_total\n",
    "                        center = sample\n",
    "                center = copy.deepcopy(center)\n",
    "            else:\n",
    "                center = self.centers[i]\n",
    "            centers = np.vstack((centers, center[np.newaxis, :]))\n",
    "        self.centers = centers\n",
    "        \n",
    "    def maximization(self, data):\n",
    "        labels = np.empty((data.shape[0]))\n",
    "        dists = np.empty((0, self.cluster_size))\n",
    "        for i, sample in enumerate(data):\n",
    "            dist = self.l2_norm(sample)\n",
    "            labels[i] = np.argmin(dist)\n",
    "            dists = np.vstack((dists, dist))\n",
    "            \n",
    "        self.dists = dists\n",
    "        self.last_labels = self.labels\n",
    "        self.labels = labels\n",
    "        \n",
    "    def l2_norm(self, sample):\n",
    "        return np.sum(np.square(self.centers-sample), axis=1)\n",
    "    \n",
    "    def init_centers(self, data):\n",
    "        init_row = np.random.choice(range(data.shape[0]), self.cluster_size, replace=False)\n",
    "        self.centers = data[init_row]\n",
    "        \n",
    "    def fit(self, data):\n",
    "        self.init_centers(data)\n",
    "        for i in range(self.max_iter):\n",
    "            print(\"Epoch :\",i)\n",
    "            self.maximization(data)\n",
    "            self.expection(data)\n",
    "            if (self.last_labels == self.labels).all():\n",
    "                print(\"K-medoid Itertion Converge\")\n",
    "                break\n",
    "    \n",
    "    \n",
    "class Kmeans:\n",
    "    \n",
    "    def __init__(self, cluster_size, max_iter):\n",
    "        self.cluster_size = cluster_size\n",
    "        self.max_iter = max_iter\n",
    "        self.verbose_eval = 5\n",
    "        self.centers = None\n",
    "        self.labels = None\n",
    "        self.last_labels = None\n",
    "        \n",
    "    def expection(self, data):\n",
    "        centers = np.empty((0, data.shape[1]))\n",
    "        for i in range(self.cluster_size):\n",
    "            idx = (self.labels == i)\n",
    "            center_samples = data[idx]\n",
    "            if len(center_samples) > 0:\n",
    "                center = np.mean(center_samples, axis=0)\n",
    "            else:\n",
    "                center = self.centers[i]\n",
    "            centers = np.vstack((centers, center[np.newaxis, :]))\n",
    "        self.centers = centers\n",
    "        \n",
    "    def maximization(self, data):\n",
    "        labels = np.empty((data.shape[0]))\n",
    "        dists = np.empty((0, self.cluster_size))\n",
    "        for i, sample in enumerate(data):\n",
    "            dist = self.l2_norm(sample)\n",
    "            labels[i] = np.argmin(dist)\n",
    "            dists = np.vstack((dists, dist))\n",
    "        self.dists = dists\n",
    "        self.last_labels = self.labels\n",
    "        self.labels = labels\n",
    "    \n",
    "    def l2_norm(self, sample):\n",
    "        return np.sum(np.square(self.centers-sample), axis=1)\n",
    "    \n",
    "    def init_centers(self, data):\n",
    "        init_row = np.random.choice(range(data.shape[0]), self.cluster_size, replace=False)\n",
    "        self.centers = data[init_row]\n",
    "        \n",
    "    def fit(self, data):\n",
    "        self.init_centers(data)\n",
    "        for i in range(self.max_iter):\n",
    "            print(\"Epoch :\",i)\n",
    "            self.maximization(data)\n",
    "            self.expection(data)\n",
    "            if (self.last_labels == self.labels).all():\n",
    "                print(\"Kmeans Itertion Converge\")\n",
    "                break"
   ]
  },
  {
   "cell_type": "code",
   "execution_count": 23,
   "metadata": {},
   "outputs": [
    {
     "name": "stdout",
     "output_type": "stream",
     "text": [
      "Epoch : 0\n",
      "Epoch : 1\n",
      "Kmeans Itertion Converge\n",
      "Epoch : 0\n",
      "Epoch : 1\n",
      "Epoch : 2\n",
      "Epoch : 3\n",
      "Epoch : 4\n",
      "K-medoid Itertion Converge\n",
      "kmeans聚类中心：\n",
      "[[-5.12903122  4.35284849]\n",
      " [ 7.30898641  5.71643603]\n",
      " [-0.3837674  -0.30207894]]\n",
      "kmedoid聚类中心：\n",
      "[[-4.64347114  4.28222242]\n",
      " [ 7.33458444  5.47393056]\n",
      " [-0.31875257 -0.52120092]]\n"
     ]
    },
    {
     "data": {
      "image/png": "[encoded data removed]",
      "text/plain": [
       "<Figure size 432x288 with 1 Axes>"
      ]
     },
     "metadata": {
      "needs_background": "light"
     },
     "output_type": "display_data"
    }
   ],
   "source": [
    "kmeans = Kmeans(3, 100)\n",
    "kmedoi = K_medoid(3, 100)\n",
    "kmeans.fit(np.array(data))\n",
    "kmedoi.fit(np.array(data))\n",
    "print(\"kmeans聚类中心：\")\n",
    "print(kmeans.centers)\n",
    "print(\"kmedoid聚类中心：\")\n",
    "print(kmedoi.centers)\n",
    "#show(data, kmeans.labels.astype(np.int32))\n",
    "show(data, kmedoi.labels.astype(np.int32))"
   ]
  },
  {
   "cell_type": "code",
   "execution_count": 7,
   "metadata": {},
   "outputs": [
    {
     "name": "stdout",
     "output_type": "stream",
     "text": [
      "[81, 77, 92, 61, 45, 60, 80, 77, 72, 68, 97, 83, 51, 10, 70, 91, 85, 52, 53, 21]\n"
     ]
    },
    {
     "data": {
      "image/png": "[encoded data removed]",
      "text/plain": [
       "<Figure size 432x288 with 1 Axes>"
      ]
     },
     "metadata": {
      "needs_background": "light"
     },
     "output_type": "display_data"
    }
   ],
   "source": [
    "import copy\n",
    "import queue\n",
    "import math\n",
    "class clusterNode:\n",
    "    def __init__(self, value, id=[],left=None, right=None, distance=-1,  count=-1, check = 0):\n",
    "        self.value = value\n",
    "        self.id = id\n",
    "        self.left = left\n",
    "        self.right = right\n",
    "        self.distance = distance\n",
    "        self.count = count\n",
    "        self.check = check\n",
    "\n",
    "class hcluster:\n",
    "    def distance(self,x,y):\n",
    "        return np.sum(np.square(x-y), axis=1)\n",
    "    def minDist(self,dataset):\n",
    "        #计算所有节点中距离最小的节点对\n",
    "        mindist = 1000\n",
    "        for i in range(len(dataset)-1):\n",
    "            if dataset[i].check == 1:\n",
    "                continue\n",
    "            for j in range(i+1,len(dataset)):\n",
    "                if dataset[j].check == 1:\n",
    "                    continue\n",
    "                dist = self.distance(dataset[i],dataset[j])\n",
    "                if dist < mindist:\n",
    "                    mindist = dist\n",
    "                    x, y = i, j\n",
    "        return mindist, x, y\n",
    "\n",
    "    def fit(self,data):\n",
    "        dataset = [clusterNode(value=item,id=[(chr(ord('a')+i))],count=1) for i,item in enumerate(data)]\n",
    "        #将输入的数据元素转化成节点，并存入节点的列表\n",
    "        length = len(dataset)\n",
    "        Backup = copy.deepcopy(dataset)\n",
    "        #备份数据\n",
    "        while(True):\n",
    "            mindist, x, y = self.minDist(dataset)\n",
    "            dataset[x].check = 1\n",
    "            dataset[y].check = 1\n",
    "            tmpid = copy.deepcopy(dataset[x].id)\n",
    "            tmpid.extend(dataset[y].id)\n",
    "            dataset.append(clusterNode(value=(dataset[x].value+dataset[y].value)/2,id=tmpid,\\\n",
    "                left=dataset[x],right=dataset[y],distance=mindist,count=dataset[x].count+dataset[y].count))\n",
    "            #生成新节点\n",
    "            if len(tmpid) == length:\n",
    "                #当新生成的节点已经包含所有元素时，退出循环，完成聚类\n",
    "                break\n",
    "        return dataset\n",
    "\n",
    "    def show(self,dataset,num):\n",
    "        plt.figure(1)\n",
    "        showqueue = queue.Queue()\n",
    "        #存放节点信息的队列\n",
    "        showqueue.put(dataset[len(dataset) - 1])\n",
    "        #存入根节点\n",
    "        showqueue.put(num)\n",
    "        #存入根节点的中心横坐标\n",
    "        while not showqueue.empty():\n",
    "            index = showqueue.get()\n",
    "            #当前绘制的节点\n",
    "            i = showqueue.get()\n",
    "            #当前绘制节点中心的横坐标\n",
    "            left = i - (index.count)/2\n",
    "            right = i + (index.count)/2\n",
    "            if index.left != None:\n",
    "                x = [left,right]\n",
    "                y = [index.distance,index.distance]\n",
    "                plt.plot(x,y)\n",
    "                x = [left,left]\n",
    "                y = [index.distance,index.left.distance]\n",
    "                plt.plot(x,y)\n",
    "                showqueue.put(index.left)\n",
    "                showqueue.put(left)\n",
    "            if index.right != None:\n",
    "                x = [right,right]\n",
    "                y = [index.distance,index.right.distance]\n",
    "                plt.plot(x,y)\n",
    "                showqueue.put(index.right)\n",
    "                showqueue.put(right)\n",
    "        plt.show()\n",
    "\n",
    "def setData(num):\n",
    "    #生成num个随机数据\n",
    "    Data = list(np.random.randint(1,100,size=num))\n",
    "    return Data\n",
    "\n",
    "if __name__ == '__main__':\n",
    "    num = 20\n",
    "    dataset = setData(num)\n",
    "    print(dataset)\n",
    "    h = hcluster()\n",
    "    resultset = h.fit(dataset)\n",
    "    h.show(resultset,num)"
   ]
  },
  {
   "cell_type": "code",
   "execution_count": null,
   "metadata": {},
   "outputs": [],
   "source": []
  }
 ],
 "metadata": {
  "kernelspec": {
   "display_name": "Python 3.7.3 64-bit ('base': conda)",
   "language": "python",
   "name": "python37364bitbaseconda11cf69b2120d45aca851a42bf4b8015b"
  },
  "language_info": {
   "codemirror_mode": {
    "name": "ipython",
    "version": 3
   },
   "file_extension": ".py",
   "mimetype": "text/x-python",
   "name": "python",
   "nbconvert_exporter": "python",
   "pygments_lexer": "ipython3",
   "version": "3.7.3"
  }
 },
 "nbformat": 4,
 "nbformat_minor": 2
}
